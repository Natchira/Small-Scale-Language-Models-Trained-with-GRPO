{
 "cells": [
  {
   "cell_type": "markdown",
   "id": "80b9d577",
   "metadata": {},
   "source": [
    "# Clean the dataset\n",
    "This notebook clean the dataset:\n",
    "- Convert the answer of open-end numerical questions into e-notation (e.g. from `2 × 10^-3` to `2e-3`)\n",
    "- Remove duplicate question/answer pairs"
   ]
  },
  {
   "cell_type": "markdown",
   "id": "b1659ed8",
   "metadata": {},
   "source": [
    "### Import"
   ]
  },
  {
   "cell_type": "code",
   "execution_count": 1,
   "id": "3ab9aa11",
   "metadata": {},
   "outputs": [],
   "source": [
    "import pandas as pd\n",
    "import numpy as np\n",
    "\n",
    "import re\n",
    "import json"
   ]
  },
  {
   "cell_type": "markdown",
   "id": "5c63e3e6",
   "metadata": {},
   "source": [
    "### Read JSON"
   ]
  },
  {
   "cell_type": "code",
   "execution_count": 2,
   "id": "9e3bd6ad",
   "metadata": {},
   "outputs": [],
   "source": [
    "df = pd.read_json(\"merged_formatted_dataset.json\")\n",
    "open_end_numerical_df = df[df[\"options\"].apply(lambda x: len(x) == 0)].copy()\n",
    "others = df[df[\"options\"].apply(lambda x: len(x) != 0)].copy()\n",
    "\n",
    "ans = open_end_numerical_df[\"answer\"]"
   ]
  },
  {
   "cell_type": "markdown",
   "id": "4f8b45b5",
   "metadata": {},
   "source": [
    "### Formatting\n",
    "We use the following script to convert the answer of the __open-end numerical questions__ to e notation, e.g. from `2 × 10^-3` to `2e-3`. \n",
    "\n",
    "This change allows future programme to compare the model's output with the dataset's output by using something like `float('2e-3') == 0.002`"
   ]
  },
  {
   "cell_type": "code",
   "execution_count": 3,
   "id": "32c52e44",
   "metadata": {},
   "outputs": [],
   "source": [
    "def replace_superscript(text):\n",
    "    # Mapping of superscript digits to regular digits\n",
    "    superscript_map = {\n",
    "        \"⁰\": \"0\",\n",
    "        \"¹\": \"1\",\n",
    "        \"²\": \"2\",\n",
    "        \"³\": \"3\",\n",
    "        \"⁴\": \"4\",\n",
    "        \"⁵\": \"5\",\n",
    "        \"⁶\": \"6\",\n",
    "        \"⁷\": \"7\",\n",
    "        \"⁸\": \"8\",\n",
    "        \"⁹\": \"9\",\n",
    "        \"⁻\": \"-\",  # Unicode superscript minus to regular minus\n",
    "    }\n",
    "\n",
    "    split_text = text.split(\" \")\n",
    "\n",
    "    # Create a translation table for str.translate()\n",
    "    trans_table = str.maketrans(superscript_map)\n",
    "\n",
    "    # Replace superscripts in the text\n",
    "    split_text[0] = (\n",
    "        split_text[0].translate(trans_table)\n",
    "        if re.search(r\"\\d\", split_text[0])\n",
    "        else split_text[0]\n",
    "    )\n",
    "\n",
    "    out = \" \".join(split_text)\n",
    "    return out\n",
    "\n",
    "\n",
    "def replace_to_e_notation(answer):\n",
    "    return replace_superscript(\n",
    "        answer.replace(\"×10^\", \"e\")\n",
    "        .replace(\" × 10^\", \"e\")\n",
    "        .replace(\"×10\", \"e\")\n",
    "        .replace(\" × 10\", \"e\")\n",
    "        .replace(\"10^\", \"1e\")\n",
    "    )\n",
    "\n",
    "def format_power_10(answer):\n",
    "    answer = replace_superscript(\n",
    "        answer.replace(\"×10^\", \"*10^\")\n",
    "        .replace(\" × 10^\", \"*10^\")\n",
    "        .replace(\"×10\", \"*10^\")\n",
    "        .replace(\" × 10\", \"*10^\")\n",
    "        .replace(\" x 10^\", \"*10^\")\n",
    "    )\n",
    "\n",
    "    split_text = answer.split(' ')\n",
    "    # replace e-notations\n",
    "    if 'e' in split_text[0]:\n",
    "        split_text[0] = split_text[0].replace(\"e\", \"*10^\")\n",
    "        answer = \" \".join(split_text)\n",
    "\n",
    "    # replace answers with pi into latex form\n",
    "    if 'π' in split_text[0]:\n",
    "        split_text[0] = split_text[0].replace('π', '\\pi')\n",
    "        split_text[0] = '$' + split_text[0] + '$'\n",
    "        answer = \" \".join(split_text)\n",
    "\n",
    "    return answer\n",
    "\n",
    "ans = ans.apply(format_power_10)"
   ]
  },
  {
   "cell_type": "markdown",
   "id": "114bed82",
   "metadata": {},
   "source": [
    "Then we merge it back to the original dataset"
   ]
  },
  {
   "cell_type": "code",
   "execution_count": 4,
   "id": "99c47b72",
   "metadata": {},
   "outputs": [],
   "source": [
    "open_end_numerical_df[\"answer\"] = ans"
   ]
  },
  {
   "cell_type": "code",
   "execution_count": 5,
   "id": "0b29729c",
   "metadata": {},
   "outputs": [],
   "source": [
    "cleaned_dataset = pd.concat([open_end_numerical_df, others]).reset_index(drop=True)"
   ]
  },
  {
   "cell_type": "code",
   "execution_count": 6,
   "id": "1e40aca8",
   "metadata": {},
   "outputs": [
    {
     "data": {
      "text/html": [
       "<div>\n",
       "<style scoped>\n",
       "    .dataframe tbody tr th:only-of-type {\n",
       "        vertical-align: middle;\n",
       "    }\n",
       "\n",
       "    .dataframe tbody tr th {\n",
       "        vertical-align: top;\n",
       "    }\n",
       "\n",
       "    .dataframe thead th {\n",
       "        text-align: right;\n",
       "    }\n",
       "</style>\n",
       "<table border=\"1\" class=\"dataframe\">\n",
       "  <thead>\n",
       "    <tr style=\"text-align: right;\">\n",
       "      <th></th>\n",
       "      <th>question</th>\n",
       "      <th>options</th>\n",
       "      <th>CoT</th>\n",
       "      <th>answer</th>\n",
       "    </tr>\n",
       "  </thead>\n",
       "  <tbody>\n",
       "    <tr>\n",
       "      <th>0</th>\n",
       "      <td>The plates of a capacitor are charged to a pot...</td>\n",
       "      <td>[]</td>\n",
       "      <td></td>\n",
       "      <td>0.01 C</td>\n",
       "    </tr>\n",
       "    <tr>\n",
       "      <th>1</th>\n",
       "      <td>How much work is required to charge a 10 µF ca...</td>\n",
       "      <td>[]</td>\n",
       "      <td></td>\n",
       "      <td>0.05 J</td>\n",
       "    </tr>\n",
       "    <tr>\n",
       "      <th>2</th>\n",
       "      <td>A soccer ball, at rest on the ground, is kicke...</td>\n",
       "      <td>[]</td>\n",
       "      <td></td>\n",
       "      <td>1 s</td>\n",
       "    </tr>\n",
       "    <tr>\n",
       "      <th>3</th>\n",
       "      <td>A solid sphere (I = 0.06 kg·m^2) spins freely ...</td>\n",
       "      <td>[]</td>\n",
       "      <td></td>\n",
       "      <td>2 s</td>\n",
       "    </tr>\n",
       "    <tr>\n",
       "      <th>4</th>\n",
       "      <td>A beam of electrons has speed 10^7 m/s. It is ...</td>\n",
       "      <td>[]</td>\n",
       "      <td></td>\n",
       "      <td>1 m</td>\n",
       "    </tr>\n",
       "    <tr>\n",
       "      <th>...</th>\n",
       "      <td>...</td>\n",
       "      <td>...</td>\n",
       "      <td>...</td>\n",
       "      <td>...</td>\n",
       "    </tr>\n",
       "    <tr>\n",
       "      <th>1992</th>\n",
       "      <td>The magnetic field lines about a current-carry...</td>\n",
       "      <td>[circles, radial lines, eddy currents, energy ...</td>\n",
       "      <td></td>\n",
       "      <td>circles</td>\n",
       "    </tr>\n",
       "    <tr>\n",
       "      <th>1993</th>\n",
       "      <td>An inflated balloon with a heavy rock tied to ...</td>\n",
       "      <td>[increases., decreases., remains largely uncha...</td>\n",
       "      <td></td>\n",
       "      <td>decreases.</td>\n",
       "    </tr>\n",
       "    <tr>\n",
       "      <th>1994</th>\n",
       "      <td>Boiling and freezing occur when water is subje...</td>\n",
       "      <td>[decreased temperatures, decreased atmospheric...</td>\n",
       "      <td></td>\n",
       "      <td>decreased atmospheric pressure</td>\n",
       "    </tr>\n",
       "    <tr>\n",
       "      <th>1995</th>\n",
       "      <td>When you bend the branch of a tree by hanging ...</td>\n",
       "      <td>[tension., compression., Both., Neither.]</td>\n",
       "      <td></td>\n",
       "      <td>tension.</td>\n",
       "    </tr>\n",
       "    <tr>\n",
       "      <th>1996</th>\n",
       "      <td>A simple and correct way to comprehend satelli...</td>\n",
       "      <td>[balanced between gravitational and centripeta...</td>\n",
       "      <td></td>\n",
       "      <td>having sufficient tangential velocities to fal...</td>\n",
       "    </tr>\n",
       "  </tbody>\n",
       "</table>\n",
       "<p>1997 rows × 4 columns</p>\n",
       "</div>"
      ],
      "text/plain": [
       "                                               question  \\\n",
       "0     The plates of a capacitor are charged to a pot...   \n",
       "1     How much work is required to charge a 10 µF ca...   \n",
       "2     A soccer ball, at rest on the ground, is kicke...   \n",
       "3     A solid sphere (I = 0.06 kg·m^2) spins freely ...   \n",
       "4     A beam of electrons has speed 10^7 m/s. It is ...   \n",
       "...                                                 ...   \n",
       "1992  The magnetic field lines about a current-carry...   \n",
       "1993  An inflated balloon with a heavy rock tied to ...   \n",
       "1994  Boiling and freezing occur when water is subje...   \n",
       "1995  When you bend the branch of a tree by hanging ...   \n",
       "1996  A simple and correct way to comprehend satelli...   \n",
       "\n",
       "                                                options CoT  \\\n",
       "0                                                    []       \n",
       "1                                                    []       \n",
       "2                                                    []       \n",
       "3                                                    []       \n",
       "4                                                    []       \n",
       "...                                                 ...  ..   \n",
       "1992  [circles, radial lines, eddy currents, energy ...       \n",
       "1993  [increases., decreases., remains largely uncha...       \n",
       "1994  [decreased temperatures, decreased atmospheric...       \n",
       "1995          [tension., compression., Both., Neither.]       \n",
       "1996  [balanced between gravitational and centripeta...       \n",
       "\n",
       "                                                 answer  \n",
       "0                                                0.01 C  \n",
       "1                                                0.05 J  \n",
       "2                                                   1 s  \n",
       "3                                                   2 s  \n",
       "4                                                   1 m  \n",
       "...                                                 ...  \n",
       "1992                                            circles  \n",
       "1993                                         decreases.  \n",
       "1994                     decreased atmospheric pressure  \n",
       "1995                                           tension.  \n",
       "1996  having sufficient tangential velocities to fal...  \n",
       "\n",
       "[1997 rows x 4 columns]"
      ]
     },
     "execution_count": 6,
     "metadata": {},
     "output_type": "execute_result"
    }
   ],
   "source": [
    "cleaned_dataset"
   ]
  },
  {
   "cell_type": "markdown",
   "id": "53f2e8c0",
   "metadata": {},
   "source": [
    "### Remove duplicate question/answer pairs from the dataset"
   ]
  },
  {
   "cell_type": "code",
   "execution_count": 7,
   "id": "7ac7cf8a",
   "metadata": {},
   "outputs": [],
   "source": [
    "qa = cleaned_dataset[[\"question\", \"answer\"]]\n",
    "cleaned_dataset = cleaned_dataset[~qa.duplicated(keep=\"first\")].copy()"
   ]
  },
  {
   "cell_type": "markdown",
   "id": "a1d9c267",
   "metadata": {},
   "source": [
    "### Clean the dataset"
   ]
  },
  {
   "cell_type": "markdown",
   "id": "4862631f",
   "metadata": {},
   "source": [
    "#### Manually format 3 questions"
   ]
  },
  {
   "cell_type": "code",
   "execution_count": 8,
   "id": "0cb97f97",
   "metadata": {},
   "outputs": [],
   "source": [
    "cleaned_dataset.loc[cleaned_dataset[\"answer\"] == \"16 000 J\", \"answer\"] = \"16000 J\""
   ]
  },
  {
   "cell_type": "code",
   "execution_count": 9,
   "id": "8def7d09",
   "metadata": {},
   "outputs": [],
   "source": [
    "cleaned_dataset.loc[cleaned_dataset[\"answer\"] == \"36 750 N\", \"answer\"] = \"36750 N\""
   ]
  },
  {
   "cell_type": "code",
   "execution_count": 10,
   "id": "f2f9c6bd",
   "metadata": {},
   "outputs": [],
   "source": [
    "cleaned_dataset.loc[cleaned_dataset[\"answer\"] == \"-36m\", \"answer\"] = \"-36 m\""
   ]
  },
  {
   "cell_type": "code",
   "execution_count": 11,
   "id": "fd47450e",
   "metadata": {},
   "outputs": [],
   "source": [
    "cleaned_dataset.loc[cleaned_dataset[\"answer\"] == \"32q.\", \"answer\"] = \"32q\""
   ]
  },
  {
   "cell_type": "markdown",
   "id": "239e5857",
   "metadata": {},
   "source": [
    "#### Break a question into two"
   ]
  },
  {
   "cell_type": "code",
   "execution_count": 12,
   "id": "b56037b9",
   "metadata": {},
   "outputs": [
    {
     "data": {
      "text/plain": [
       "('A 15 kg box is pushed with a force of 60 N. If the frictional force is 20 N, what is the net force and the resulting acceleration?',\n",
       " 'Net force = 60 N − 20 N = 40 N; then a = F/m = 40 N ÷ 15 kg.',\n",
       " '40 N, 2.67 m/s²')"
      ]
     },
     "execution_count": 12,
     "metadata": {},
     "output_type": "execute_result"
    }
   ],
   "source": [
    "data = cleaned_dataset.loc[cleaned_dataset[\"answer\"] == \"40 N, 2.67 m/s²\"].copy()\n",
    "data.reset_index(drop=True, inplace=True)\n",
    "data.loc[0, \"question\"], data.loc[0, \"CoT\"], data.loc[0, \"answer\"]"
   ]
  },
  {
   "cell_type": "code",
   "execution_count": 13,
   "id": "3b694615",
   "metadata": {},
   "outputs": [],
   "source": [
    "q1 = {}\n",
    "q1[\"question\"] = \"A 15 kg box is pushed with a force of 60 N. If the frictional force is 20 N, what is the net force?\"\n",
    "q1[\"options\"] = []\n",
    "q1[\"CoT\"] = \"Net force = 60 N − 20 N = 40 N; then a = F/m = 40 N ÷ 15 kg.\"\n",
    "q1[\"answer\"] = \"40 N\"\n",
    "\n",
    "q2 = {}\n",
    "q2[\"question\"] = \"A 15 kg box is pushed with a force of 60 N. If the frictional force is 20 N, what is the resulting acceleration?\"\n",
    "q2[\"options\"] = []\n",
    "q2[\"CoT\"] = \"Net force = 60 N − 20 N = 40 N; then a = F/m = 40 N ÷ 15 kg.\"\n",
    "q2[\"answer\"] = \"2.67 m/s²\"\n",
    "\n",
    "\n",
    "cleaned_dataset.drop(index=cleaned_dataset.loc[cleaned_dataset[\"answer\"] == \"40 N, 2.67 m/s²\"].index, inplace=True)\n",
    "cleaned_dataset = pd.concat([cleaned_dataset, pd.DataFrame([q1, q2])])"
   ]
  },
  {
   "cell_type": "markdown",
   "id": "c56ac59c",
   "metadata": {},
   "source": [
    "#### Break a question into two"
   ]
  },
  {
   "cell_type": "code",
   "execution_count": 14,
   "id": "49515990",
   "metadata": {},
   "outputs": [
    {
     "data": {
      "text/plain": [
       "('When you scale up an object to 3 times its linear size, the surface area increases by',\n",
       " '',\n",
       " '9 and the volume by 27.')"
      ]
     },
     "execution_count": 14,
     "metadata": {},
     "output_type": "execute_result"
    }
   ],
   "source": [
    "data = cleaned_dataset.loc[cleaned_dataset[\"answer\"] == \"9 and the volume by 27.\"].copy()\n",
    "data.reset_index(drop=True, inplace=True)\n",
    "data.loc[0, \"question\"], data.loc[0, \"CoT\"], data.loc[0, \"answer\"]"
   ]
  },
  {
   "cell_type": "code",
   "execution_count": 15,
   "id": "50a741f7",
   "metadata": {},
   "outputs": [],
   "source": [
    "q1 = {}\n",
    "q1[\"question\"] = \"When you scale up an object to 3 times its linear size, the surface area increases by () times.\"\n",
    "q1[\"options\"] = []\n",
    "q1[\"CoT\"] = \"\"\n",
    "q1[\"answer\"] = \"9\"\n",
    "\n",
    "q2 = {}\n",
    "q2[\"question\"] = \"When you scale up an object to 3 times its linear size, the volume increases by () times.\"\n",
    "q2[\"options\"] = []\n",
    "q2[\"CoT\"] = \"\"\n",
    "q2[\"answer\"] = \"27\"\n",
    "\n",
    "\n",
    "cleaned_dataset.drop(index=cleaned_dataset.loc[cleaned_dataset[\"answer\"] == \"9 and the volume by 27.\"].index, inplace=True)\n",
    "cleaned_dataset = pd.concat([cleaned_dataset, pd.DataFrame([q1, q2])])"
   ]
  },
  {
   "cell_type": "markdown",
   "id": "be681e83",
   "metadata": {},
   "source": [
    "#### Dealing with questions with \"ohm\""
   ]
  },
  {
   "cell_type": "code",
   "execution_count": 16,
   "id": "962c044f",
   "metadata": {},
   "outputs": [],
   "source": [
    "def replace_ohm(answer):\n",
    "    return answer.replace(\"ohms\", \"Ω\")\n",
    "\n",
    "cleaned_dataset['answer'] = cleaned_dataset['answer'].apply(replace_ohm)"
   ]
  },
  {
   "cell_type": "code",
   "execution_count": 17,
   "id": "ace0b07e",
   "metadata": {},
   "outputs": [],
   "source": [
    "def add_space_to_ohm(answer):\n",
    "  if \"Ω\" in answer.split(' ')[0]:\n",
    "    answer = answer.replace(\"Ω\", \" Ω\")\n",
    "    return answer\n",
    "  return answer\n",
    "\n",
    "cleaned_dataset['answer'] = cleaned_dataset['answer'].apply(add_space_to_ohm)"
   ]
  },
  {
   "cell_type": "markdown",
   "id": "643c48d3",
   "metadata": {},
   "source": [
    "#### Replace `Joules` with `J`"
   ]
  },
  {
   "cell_type": "code",
   "execution_count": 18,
   "id": "0ad4b6b5",
   "metadata": {},
   "outputs": [],
   "source": [
    "def replace_joule(answer):\n",
    "    return answer.replace(\"Joules\", \"J\")\n",
    "\n",
    "cleaned_dataset['answer'] = cleaned_dataset['answer'].apply(replace_joule)"
   ]
  },
  {
   "cell_type": "markdown",
   "id": "04ab92a1",
   "metadata": {},
   "source": [
    "#### Replace `m/s²`, `m/s2`, `m²`, `m³` to a good format, i.e. `xx^y`"
   ]
  },
  {
   "cell_type": "code",
   "execution_count": 19,
   "id": "5aa78ddf",
   "metadata": {},
   "outputs": [],
   "source": [
    "def replace_msx(answer):\n",
    "    return answer.replace(\"m/s2\", \"m/s^2\").replace(\"m/s²\", \"m/s^2\")\n",
    "\n",
    "cleaned_dataset['answer'] = cleaned_dataset['answer'].apply(replace_msx)"
   ]
  },
  {
   "cell_type": "code",
   "execution_count": 20,
   "id": "a3d81824",
   "metadata": {},
   "outputs": [],
   "source": [
    "def replace_mx(answer):\n",
    "    return answer.replace(\"m²\", \"m^2\").replace(\"m³\", \"m^3\")\n",
    "\n",
    "cleaned_dataset['answer'] = cleaned_dataset['answer'].apply(replace_mx)"
   ]
  },
  {
   "cell_type": "markdown",
   "id": "9a2610e6",
   "metadata": {},
   "source": [
    "#### Treat degree `°` as a unit"
   ]
  },
  {
   "cell_type": "code",
   "execution_count": 21,
   "id": "b622bce7",
   "metadata": {},
   "outputs": [],
   "source": [
    "def add_space_to_degree(answer):\n",
    "  if \"°\" in answer.split(' ')[0]:\n",
    "    answer = answer.replace(\"°\", \" °\")\n",
    "    return answer\n",
    "  return answer\n",
    "\n",
    "cleaned_dataset['answer'] = cleaned_dataset['answer'].apply(add_space_to_degree)"
   ]
  },
  {
   "cell_type": "markdown",
   "id": "f868ba43",
   "metadata": {},
   "source": [
    "#### Remove `.` from `minutes.` and `years.`"
   ]
  },
  {
   "cell_type": "code",
   "execution_count": 22,
   "id": "d55c2e66",
   "metadata": {},
   "outputs": [],
   "source": [
    "def remove_full_stop(answer):\n",
    "  return answer.replace('minutes.', 'minutes').replace('years.', 'years')\n",
    "\n",
    "cleaned_dataset['answer'] = cleaned_dataset['answer'].apply(remove_full_stop)"
   ]
  },
  {
   "cell_type": "markdown",
   "id": "2f37ccdf",
   "metadata": {},
   "source": [
    "#### Rephase the question and answer"
   ]
  },
  {
   "cell_type": "code",
   "execution_count": 23,
   "id": "fa67f544",
   "metadata": {},
   "outputs": [],
   "source": [
    "ans = \"300 J out of the system\"\n",
    "ques = \"A gas undergoes an expansion-compression cycle. If, plotted on a P-V diagram, the cycle is counterclockwise and the work is 300 J in magnitude, what was the heat transfer during this cycle? Take into the system as positive.\"\n",
    "cleaned_dataset.loc[cleaned_dataset[\"answer\"] == ans, \"question\"] = ques\n",
    "cleaned_dataset.loc[cleaned_dataset[\"answer\"] == ans, \"answer\"] = \"-300 J\""
   ]
  },
  {
   "cell_type": "code",
   "execution_count": 24,
   "id": "1e3c5e33",
   "metadata": {},
   "outputs": [],
   "source": [
    "ans = \"25 m/s, downward\"\n",
    "ques = \"A stone is thrown vertically upward with an initial speed of 5 m/s. What is the velocity of the stone 3 seconds later? Take upward as positive.\"\n",
    "cleaned_dataset.loc[cleaned_dataset[\"answer\"] == ans, \"question\"] = ques\n",
    "cleaned_dataset.loc[cleaned_dataset[\"answer\"] == ans, \"answer\"] = \"-24.4 m/s\""
   ]
  },
  {
   "cell_type": "code",
   "execution_count": 25,
   "id": "361a3089",
   "metadata": {},
   "outputs": [],
   "source": [
    "ans = \"100 times as much\"\n",
    "ques = \"Imagine you're standing on the surface of a shrinking planet. If it shrinks to one-tenth its original diameter with no change in mass on the shrunken surface you'd weigh () times as much.\"\n",
    "cleaned_dataset.loc[cleaned_dataset[\"answer\"] == ans, \"question\"] = ques\n",
    "cleaned_dataset.loc[cleaned_dataset[\"answer\"] == ans, \"answer\"] = \"100\""
   ]
  },
  {
   "cell_type": "code",
   "execution_count": 26,
   "id": "8281f14c",
   "metadata": {},
   "outputs": [],
   "source": [
    "ans = \"100 times greater\"\n",
    "ques = \"Compared with a sound of 60 decibels, a sound of 80 decibels has an intensity () times greater.\"\n",
    "cleaned_dataset.loc[cleaned_dataset[\"answer\"] == ans, \"question\"] = ques\n",
    "cleaned_dataset.loc[cleaned_dataset[\"answer\"] == ans, \"answer\"] = \"100\""
   ]
  },
  {
   "cell_type": "code",
   "execution_count": 27,
   "id": "ce672be7",
   "metadata": {},
   "outputs": [],
   "source": [
    "ans = \"4.18 J/g°C\"\n",
    "cleaned_dataset.loc[cleaned_dataset[\"answer\"] == ans, \"answer\"] = \"4184 J/(kg·K)\""
   ]
  },
  {
   "cell_type": "code",
   "execution_count": 28,
   "id": "5cc92efa",
   "metadata": {},
   "outputs": [],
   "source": [
    "ans = \"tan–1 4\"\n",
    "cleaned_dataset.loc[cleaned_dataset[\"answer\"] == ans, \"answer\"] = \"75.96 °\""
   ]
  },
  {
   "cell_type": "markdown",
   "id": "870cfe8a",
   "metadata": {},
   "source": [
    "#### Remove a data as there are two same questions, but two with different unit in the answer"
   ]
  },
  {
   "cell_type": "code",
   "execution_count": 29,
   "id": "d89f49cf",
   "metadata": {},
   "outputs": [],
   "source": [
    "cleaned_dataset.drop(index=cleaned_dataset.loc[cleaned_dataset[\"answer\"] == \"7.2*10^5 V/m\"].index, inplace=True)"
   ]
  },
  {
   "cell_type": "markdown",
   "id": "dac88d09",
   "metadata": {},
   "source": [
    "#### Remove factual open-end question"
   ]
  },
  {
   "cell_type": "code",
   "execution_count": 30,
   "id": "9d459aa5",
   "metadata": {},
   "outputs": [],
   "source": [
    "cleaned_dataset.drop(index=cleaned_dataset.loc[cleaned_dataset[\"question\"] == \"What is the truth table for an XOR gate?\"].index, inplace=True)"
   ]
  },
  {
   "cell_type": "code",
   "execution_count": 31,
   "id": "1ea75fb9",
   "metadata": {},
   "outputs": [
    {
     "data": {
      "text/plain": [
       "1997"
      ]
     },
     "execution_count": 31,
     "metadata": {},
     "output_type": "execute_result"
    }
   ],
   "source": [
    "cleaned_dataset.reset_index(drop=True, inplace=True)\n",
    "len(cleaned_dataset)"
   ]
  },
  {
   "cell_type": "markdown",
   "id": "fe0671d4",
   "metadata": {},
   "source": [
    "### Save as JSON"
   ]
  },
  {
   "cell_type": "code",
   "execution_count": 32,
   "id": "42e85f8f",
   "metadata": {},
   "outputs": [],
   "source": [
    "with open(\"cleaned_dataset.json\", \"w\", encoding=\"utf-8\") as f:\n",
    "    json.dump(cleaned_dataset.to_dict('records'), f, indent=4, ensure_ascii=False)"
   ]
  }
 ],
 "metadata": {
  "kernelspec": {
   "display_name": "dissertation",
   "language": "python",
   "name": "python3"
  },
  "language_info": {
   "codemirror_mode": {
    "name": "ipython",
    "version": 3
   },
   "file_extension": ".py",
   "mimetype": "text/x-python",
   "name": "python",
   "nbconvert_exporter": "python",
   "pygments_lexer": "ipython3",
   "version": "3.10.18"
  }
 },
 "nbformat": 4,
 "nbformat_minor": 5
}
